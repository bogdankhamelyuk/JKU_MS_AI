{
 "cells": [
  {
   "cell_type": "markdown",
   "metadata": {},
   "source": [
    "<h1 style=\"color:rgb(0,120,170)\">Assignment 2: Maximum Likelihood</h1>"
   ]
  },
  {
   "cell_type": "markdown",
   "metadata": {},
   "source": [
    "This material, no matter whether in printed or electronic form, may be used for personal and non-commercial educational use only. Any reproduction of this material, no matter whether as a whole or in parts, no matter whether in printed or in electronic form, requires explicit prior acceptance of the authors."
   ]
  },
  {
   "cell_type": "markdown",
   "metadata": {},
   "source": [
    "<h3 style=\"color:rgb(210,90,80)\">Exercise 1 (25 points):</h3>\n",
    "\n",
    "Compute the Maximum Likelihood Estimator for the parameter $\\lambda > 0$ of a\n",
    "Poisson distribution. This means: Assuming we have data samples ${x_{1},x_{2},...,x_{n}}$, we want to\n",
    "find the $\\lambda$ that maximizes the likelihood\n",
    "\n",
    "$$\n",
    "\\mathcal{L}(\\lambda) = \\prod_{i=1}^{n} \\mathcal{P}(x_{i}; \\lambda) = \\prod_{i=1}^{n} \\frac{\\lambda^{x_{i}}}{x_{i}!} \\mathcal{e}^{-\\lambda}\n",
    "$$\n",
    "\n",
    "\n",
    "**Hint:** You will have a much easier time if you compute with the log-likelihood as compared to the likelihood.\n",
    "\n",
    "You should arrive at this solution: $\\hat{\\lambda} = \\frac 1 n \\sum_{i=1}^{n} x_{i}$."
   ]
  },
  {
   "attachments": {},
   "cell_type": "markdown",
   "metadata": {},
   "source": [
    "########## YOUR SOLUTION HERE ##########\n",
    "\n",
    "Bit of theory for myself: \n",
    "* A maximum likelihood estimator (MLE) is a statistical method used to estimate the parameters of a probability distribution by maximizing the likelihood function. \n",
    "* The likelihood function represents the probability of observing a set of data given the parameter values.\n",
    "* $\\underline{\\textbf{The MLE method finds the values of the parameters that make the observed data most probable or likely, given the assumed distribution.}}$\n",
    "\n",
    "The MLE is the solution of the following maximization problem\n",
    "\n",
    "$$\n",
    "\\hat{\\lambda} = \\argmax_\\lambda\\mathcal{L}(\\lambda; x_1, x_2, ... ,x_n)\n",
    "\n",
    "$$\n",
    "Before we start calculating maximum, we have to transform using logarithms:\n",
    "$$\n",
    "\\mathcal{L}(\\lambda)= \\log\\left(\\prod_{i=1}^{n} \\frac{\\lambda^{x_{i}}}{x_{i}!} e^{-\\lambda}\\right) = \\sum_{i=1}^{n}\\left(\\frac{\\lambda^{x_{i}}}{x_{i}!} e^{-\\lambda} \\right) = \\sum_{i=1}^{n}\\left(\\log(\\lambda^{x_{i}}) - \\log(x_{i}!) + \\log(e^{-\\lambda}) \\right) =\n",
    "$$\n",
    "\n",
    "$$\n",
    "=\\sum_{i=1}^{n}\\left(\\log(\\lambda^{x_{i}}) - \\log(x_{i}!) + \\log(e^{-\\lambda}) \\right) = \\log(\\lambda)\\sum_{i=1}^{n}x_i - \\sum_{i=1}^{n}\\log(x_{i}!)  - n\\lambda\n",
    "$$\n",
    "The first order condition for a maximum is: \n",
    "\n",
    "$$\n",
    "\\frac{\\partial \\mathcal{L} (\\lambda; x_1, x_2, ... ,x_n) }{\\partial\\lambda} = \\frac{\\partial \\Bigl(\\log(\\lambda)\\sum_{i=1}^{n}x_i - \\sum_{i=1}^{n}\\log(x_{i}!)  - n\\lambda \\Bigr) }{\\partial \\lambda} = -n + \\frac{1}{\\lambda}\\sum_{i=1}^{n}x_i = 0\n",
    "$$\n",
    "\n",
    "which can be simplified to:\n",
    "$$\n",
    "\\lambda = \\frac 1 n \\sum_{i=1}^{n} x_{i}\n",
    "$$"
   ]
  },
  {
   "cell_type": "markdown",
   "metadata": {},
   "source": [
    "In the next exercises, we will plot the log-likelihood from the previous task as a function of $\\lambda$ and mark the\n",
    "position where the maximum occurs. Use the data stored in poisson.csv for this task. As\n",
    "possible values for $\\lambda$ we suggest values from $1$ to $50$ with a step size of $0.5$, i.e. $(1.0, 1.5, 2.0, ...).$ "
   ]
  },
  {
   "cell_type": "code",
   "execution_count": 6,
   "metadata": {},
   "outputs": [
    {
     "data": {
      "text/html": [
       "<div>\n",
       "<style scoped>\n",
       "    .dataframe tbody tr th:only-of-type {\n",
       "        vertical-align: middle;\n",
       "    }\n",
       "\n",
       "    .dataframe tbody tr th {\n",
       "        vertical-align: top;\n",
       "    }\n",
       "\n",
       "    .dataframe thead th {\n",
       "        text-align: right;\n",
       "    }\n",
       "</style>\n",
       "<table border=\"1\" class=\"dataframe\">\n",
       "  <thead>\n",
       "    <tr style=\"text-align: right;\">\n",
       "      <th></th>\n",
       "      <th>0</th>\n",
       "    </tr>\n",
       "  </thead>\n",
       "  <tbody>\n",
       "    <tr>\n",
       "      <th>0</th>\n",
       "      <td>11</td>\n",
       "    </tr>\n",
       "    <tr>\n",
       "      <th>1</th>\n",
       "      <td>10</td>\n",
       "    </tr>\n",
       "    <tr>\n",
       "      <th>2</th>\n",
       "      <td>11</td>\n",
       "    </tr>\n",
       "    <tr>\n",
       "      <th>3</th>\n",
       "      <td>9</td>\n",
       "    </tr>\n",
       "    <tr>\n",
       "      <th>4</th>\n",
       "      <td>12</td>\n",
       "    </tr>\n",
       "  </tbody>\n",
       "</table>\n",
       "</div>"
      ],
      "text/plain": [
       "    0\n",
       "0  11\n",
       "1  10\n",
       "2  11\n",
       "3   9\n",
       "4  12"
      ]
     },
     "execution_count": 6,
     "metadata": {},
     "output_type": "execute_result"
    }
   ],
   "source": [
    "import pandas as pd\n",
    "import matplotlib.pyplot as plt\n",
    "import numpy as np\n",
    "data_df = pd.read_csv('poisson.csv',header=None)\n",
    "\n",
    "# print the head of the dataset, good practice\n",
    "data_df.head()"
   ]
  },
  {
   "cell_type": "code",
   "execution_count": 7,
   "metadata": {},
   "outputs": [
    {
     "name": "stdout",
     "output_type": "stream",
     "text": [
      "<class 'pandas.core.frame.DataFrame'>\n",
      "<class 'numpy.ndarray'>\n"
     ]
    }
   ],
   "source": [
    "X = data_df.values[:,0]\n",
    "\n",
    "print(type(data_df))\n",
    "print(type(X))"
   ]
  },
  {
   "cell_type": "code",
   "execution_count": 8,
   "metadata": {},
   "outputs": [
    {
     "data": {
      "image/png": "[encoded data removed]",
      "text/plain": [
       "<Figure size 800x300 with 1 Axes>"
      ]
     },
     "metadata": {},
     "output_type": "display_data"
    }
   ],
   "source": [
    "plt.figure(figsize=(8,3))\n",
    "plt.hist(X)\n",
    "plt.xlabel('x')\n",
    "plt.ylabel('p(x)')\n",
    "plt.title('Histogram of poisson.csv');\n",
    "plt.show()"
   ]
  },
  {
   "cell_type": "markdown",
   "metadata": {},
   "source": [
    "**Log Likelihood:**"
   ]
  },
  {
   "cell_type": "code",
   "execution_count": 9,
   "metadata": {},
   "outputs": [],
   "source": [
    "import math\n",
    "\n",
    "def loglikelihood(x, lam):\n",
    "    if lam == 0:\n",
    "        return -1\n",
    "    lnL = 0 \n",
    "    for xi in x:\n",
    "        lnL += xi*np.log(lam)-np.log(math.factorial(xi))-lam\n",
    "    return lnL"
   ]
  },
  {
   "cell_type": "code",
   "execution_count": 17,
   "metadata": {},
   "outputs": [
    {
     "name": "stdout",
     "output_type": "stream",
     "text": [
      "(1000,)\n",
      "lnL(1)  = -17657.38\n",
      "lnL(10) =  -2256.88\n",
      "lnL(20) =  -4911.60\n",
      "lnL(30) = -10614.89\n",
      "lnL(40) = -17566.32\n",
      "lnL(50) = -25201.67\n"
     ]
    }
   ],
   "source": [
    "#test the function\n",
    "lam_set = np.linspace(1,50,99)\n",
    "print(X.shape)\n",
    "\n",
    "\n",
    "print(\"lnL(1)  = %9.2f\"%loglikelihood(X,lam_set[0]))\n",
    "print(\"lnL(10) = %9.2f\"%loglikelihood(X,lam_set[9*2]))\n",
    "print(\"lnL(20) = %9.2f\"%loglikelihood(X,lam_set[19*2]))\n",
    "print(\"lnL(30) = %9.2f\"%loglikelihood(X,lam_set[29*2]))\n",
    "print(\"lnL(40) = %9.2f\"%loglikelihood(X,lam_set[39*2]))\n",
    "print(\"lnL(50) = %9.2f\"%loglikelihood(X,lam_set[49*2]))"
   ]
  },
  {
   "cell_type": "markdown",
   "metadata": {},
   "source": [
    "<h3 style=\"color:rgb(210,90,80)\">Exercise 2 (5 points):</h3>\n",
    "\n",
    "Implement the `estimator_formula` function returning the analytic solution for lambda-hat"
   ]
  },
  {
   "cell_type": "code",
   "execution_count": 11,
   "metadata": {},
   "outputs": [],
   "source": [
    "def estimator_formula(X):\n",
    "    \"\"\" the estimator returns lambda-hat according to the result of the calculation in task 1\"\"\"\n",
    "    \n",
    "    ########## YOUR SOLUTION HERE ##########   \n",
    "    # this method implies that we find lambda, which leads to the highest log-likelihood\n",
    "    # finding of the lambda is based on the analytical solution we defined in the first exercise\n",
    "    # Disadvantage is that it's not completely preciseful.\n",
    "    lam_max_formula = sum(X)/len(X)\n",
    "    return lam_max_formula"
   ]
  },
  {
   "cell_type": "code",
   "execution_count": 12,
   "metadata": {},
   "outputs": [
    {
     "name": "stdout",
     "output_type": "stream",
     "text": [
      "Likelihood is maximal at lambda-hat (formula) =    10.597\n",
      "            Log-Likelihood at this lambda-hat = -2239.405\n"
     ]
    }
   ],
   "source": [
    "lam_max_formula = estimator_formula(X)\n",
    "print('Likelihood is maximal at lambda-hat (formula) = %9.3f'%lam_max_formula)\n",
    "print('            Log-Likelihood at this lambda-hat = %9.3f'%loglikelihood(X,lam_max_formula))"
   ]
  },
  {
   "attachments": {},
   "cell_type": "markdown",
   "metadata": {},
   "source": [
    "<h3 style=\"color:rgb(210,90,80)\">Exercise 3 (5 points):</h3>\n",
    "\n",
    "Implement the `estimator_data` function returning an estimate for lambda-hat numerically using argmax over the suggested support points of lambda"
   ]
  },
  {
   "cell_type": "code",
   "execution_count": 13,
   "metadata": {},
   "outputs": [],
   "source": [
    "def estimator_support(X, lam_set):\n",
    "    loglikelih = [loglikelihood(X,lami) for lami in lam_set]\n",
    "\n",
    "    ########## YOUR SOLUTION HERE ##########\n",
    "    \n",
    "    return loglikelih, ln_min, ln_max, lam_max"
   ]
  },
  {
   "cell_type": "code",
   "execution_count": 14,
   "metadata": {},
   "outputs": [
    {
     "name": "stdout",
     "output_type": "stream",
     "text": [
      "-2239.8515449798792\n",
      "20\n",
      "9\n"
     ]
    },
    {
     "ename": "NameError",
     "evalue": "name 'lam_max' is not defined",
     "output_type": "error",
     "traceback": [
      "\u001b[0;31m---------------------------------------------------------------------------\u001b[0m",
      "\u001b[0;31mNameError\u001b[0m                                 Traceback (most recent call last)",
      "\u001b[1;32m/Users/bogdankhamelyuk/Documents/JKU_MS_AI/ml_unsupervised/A2_Notebook.ipynb Cell 17\u001b[0m in \u001b[0;36m<cell line: 1>\u001b[0;34m()\u001b[0m\n\u001b[0;32m----> <a href='vscode-notebook-cell:/Users/bogdankhamelyuk/Documents/JKU_MS_AI/ml_unsupervised/A2_Notebook.ipynb#X22sZmlsZQ%3D%3D?line=0'>1</a>\u001b[0m loglikelih, ln_min, ln_max, lam_max \u001b[39m=\u001b[39m estimator_support(X, lam_set)\n\u001b[1;32m      <a href='vscode-notebook-cell:/Users/bogdankhamelyuk/Documents/JKU_MS_AI/ml_unsupervised/A2_Notebook.ipynb#X22sZmlsZQ%3D%3D?line=1'>2</a>\u001b[0m \u001b[39mprint\u001b[39m(\u001b[39m'\u001b[39m\u001b[39mLikelihood is maximal at lambda-hat (argmax) = \u001b[39m\u001b[39m%9.3f\u001b[39;00m\u001b[39m'\u001b[39m\u001b[39m%\u001b[39mlam_max)\n\u001b[1;32m      <a href='vscode-notebook-cell:/Users/bogdankhamelyuk/Documents/JKU_MS_AI/ml_unsupervised/A2_Notebook.ipynb#X22sZmlsZQ%3D%3D?line=2'>3</a>\u001b[0m \u001b[39mprint\u001b[39m(\u001b[39m'\u001b[39m\u001b[39mLog-Likelihood at this lambda-hat = \u001b[39m\u001b[39m%9.3f\u001b[39;00m\u001b[39m'\u001b[39m\u001b[39m%\u001b[39mloglikelihood(X,lam_max))\n",
      "\u001b[1;32m/Users/bogdankhamelyuk/Documents/JKU_MS_AI/ml_unsupervised/A2_Notebook.ipynb Cell 17\u001b[0m in \u001b[0;36mestimator_support\u001b[0;34m(X, lam_set)\u001b[0m\n\u001b[1;32m     <a href='vscode-notebook-cell:/Users/bogdankhamelyuk/Documents/JKU_MS_AI/ml_unsupervised/A2_Notebook.ipynb#X22sZmlsZQ%3D%3D?line=16'>17</a>\u001b[0m max_x \u001b[39m=\u001b[39m X[max_x_index]\n\u001b[1;32m     <a href='vscode-notebook-cell:/Users/bogdankhamelyuk/Documents/JKU_MS_AI/ml_unsupervised/A2_Notebook.ipynb#X22sZmlsZQ%3D%3D?line=17'>18</a>\u001b[0m \u001b[39mprint\u001b[39m(max_x)\n\u001b[0;32m---> <a href='vscode-notebook-cell:/Users/bogdankhamelyuk/Documents/JKU_MS_AI/ml_unsupervised/A2_Notebook.ipynb#X22sZmlsZQ%3D%3D?line=18'>19</a>\u001b[0m \u001b[39mreturn\u001b[39;00m loglikelih, ln_min, ln_max, lam_max\n",
      "\u001b[0;31mNameError\u001b[0m: name 'lam_max' is not defined"
     ]
    }
   ],
   "source": [
    "loglikelih, ln_min, ln_max, lam_max = estimator_support(X, lam_set)\n",
    "print('Likelihood is maximal at lambda-hat (argmax) = %9.3f'%lam_max)\n",
    "print('Log-Likelihood at this lambda-hat = %9.3f'%loglikelihood(X,lam_max))"
   ]
  },
  {
   "cell_type": "markdown",
   "metadata": {},
   "source": [
    "<h3 style=\"color:rgb(210,90,80)\">Exercise 4 (10 points):</h3>\n",
    "\n",
    "* Plot the loglikelihood function over `lam_set`\n",
    "* Mark the maxima in the plot according to `estimator_formula` and `estimator_support`"
   ]
  },
  {
   "cell_type": "code",
   "execution_count": null,
   "metadata": {},
   "outputs": [],
   "source": [
    "########## YOUR SOLUTION HERE ##########"
   ]
  },
  {
   "cell_type": "markdown",
   "metadata": {},
   "source": [
    "<h3 style=\"color:rgb(208,90,80)\">Exercise 5 (5 points)</h3>\n",
    "\n",
    "* Explain and discuss the result in your own words. Where is the maximum?"
   ]
  },
  {
   "cell_type": "markdown",
   "metadata": {},
   "source": [
    "########## YOUR SOLUTION HERE ##########"
   ]
  },
  {
   "cell_type": "code",
   "execution_count": null,
   "metadata": {},
   "outputs": [],
   "source": []
  }
 ],
 "metadata": {
  "kernelspec": {
   "display_name": "Python 3 (ipykernel)",
   "language": "python",
   "name": "python3"
  },
  "language_info": {
   "codemirror_mode": {
    "name": "ipython",
    "version": 3
   },
   "file_extension": ".py",
   "mimetype": "text/x-python",
   "name": "python",
   "nbconvert_exporter": "python",
   "pygments_lexer": "ipython3",
   "version": "3.9.13"
  }
 },
 "nbformat": 4,
 "nbformat_minor": 2
}
